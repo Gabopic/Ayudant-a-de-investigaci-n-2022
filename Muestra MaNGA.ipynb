{
 "cells": [
  {
   "cell_type": "code",
   "execution_count": 2,
   "id": "a0b51085-e689-41ab-a1af-bbfaa00f264b",
   "metadata": {},
   "outputs": [],
   "source": [
    "import astropy\n",
    "from astropy.io import fits\n",
    "import matplotlib.pyplot as plt"
   ]
  },
  {
   "cell_type": "code",
   "execution_count": 3,
   "id": "5fd52ff5-f89f-43b2-87e2-ad61841fff39",
   "metadata": {},
   "outputs": [],
   "source": [
    "log= fits.open('manga-8083-12705-LOGCUBE-HYB10-MILESHC-MASTARHC2.fits.gz')"
   ]
  },
  {
   "cell_type": "code",
   "execution_count": 4,
   "id": "37c3d8ae-116c-4848-a7b9-3e347dd2f84d",
   "metadata": {},
   "outputs": [
    {
     "name": "stdout",
     "output_type": "stream",
     "text": [
      "Filename: manga-8083-12705-LOGCUBE-HYB10-MILESHC-MASTARHC2.fits.gz\n",
      "No.    Name      Ver    Type      Cards   Dimensions   Format\n",
      "  0  PRIMARY       1 PrimaryHDU     128   ()      \n",
      "  1  FLUX          1 ImageHDU        45   (72, 72, 4563)   float32   \n",
      "  2  IVAR          1 ImageHDU        46   (72, 72, 4563)   float32   \n",
      "  3  MASK          1 ImageHDU        45   (72, 72, 4563)   int16   \n",
      "  4  LSF           1 ImageHDU        44   (72, 72, 4563)   float32   \n",
      "  5  WAVE          1 ImageHDU         9   (4563,)   float32   \n",
      "  6  REDCORR       1 ImageHDU         9   (4563,)   float32   \n",
      "  7  MODEL         1 ImageHDU        44   (72, 72, 4563)   float32   \n",
      "  8  MODEL_MASK    1 ImageHDU        44   (72, 72, 4563)   int16   \n",
      "  9  EMLINE        1 ImageHDU        43   (72, 72, 4563)   float32   \n",
      " 10  STELLAR       1 ImageHDU        44   (72, 72, 4563)   float32   \n",
      " 11  STELLAR_MASK    1 ImageHDU        44   (72, 72, 4563)   int16   \n",
      " 12  BINID         1 ImageHDU        46   (72, 72, 5)   int32   \n"
     ]
    }
   ],
   "source": [
    "log.info()"
   ]
  },
  {
   "cell_type": "code",
   "execution_count": 5,
   "id": "a2f89c1a-72fd-485e-9a43-72ca0254997c",
   "metadata": {},
   "outputs": [
    {
     "data": {
      "image/png": "[encoded data removed]",
      "text/plain": [
       "<Figure size 432x288 with 1 Axes>"
      ]
     },
     "metadata": {
      "needs_background": "light"
     },
     "output_type": "display_data"
    }
   ],
   "source": [
    "plt.imshow(log[1].data[2500],cmap='gray')\n",
    "plt.title('Imagen de MaNGA procesada')\n",
    "plt.show()"
   ]
  },
  {
   "cell_type": "code",
   "execution_count": 6,
   "id": "765a63f6-940d-4a34-8d41-a81224c25da6",
   "metadata": {},
   "outputs": [],
   "source": [
    "maps= fits.open('manga-8083-12705-MAPS-HYB10-MILESHC-MASTARHC2.fits.gz')"
   ]
  },
  {
   "cell_type": "code",
   "execution_count": 7,
   "id": "2131e51f-d8e0-4646-bb34-60145e9e388c",
   "metadata": {
    "tags": []
   },
   "outputs": [
    {
     "name": "stdout",
     "output_type": "stream",
     "text": [
      "Filename: manga-8083-12705-MAPS-HYB10-MILESHC-MASTARHC2.fits.gz\n",
      "No.    Name      Ver    Type      Cards   Dimensions   Format\n",
      "  0  PRIMARY       1 PrimaryHDU     147   ()      \n",
      "  1  SPX_SKYCOO    1 ImageHDU        44   (72, 72, 2)   float32   \n",
      "  2  SPX_ELLCOO    1 ImageHDU        49   (72, 72, 4)   float32   \n",
      "  3  SPX_MFLUX     1 ImageHDU        37   (72, 72)   float32   \n",
      "  4  SPX_MFLUX_IVAR    1 ImageHDU        38   (72, 72)   float32   \n",
      "  5  SPX_SNR       1 ImageHDU        35   (72, 72)   float32   \n",
      "  6  BINID         1 ImageHDU        46   (72, 72, 5)   int32   \n",
      "  7  BIN_LWSKYCOO    1 ImageHDU        44   (72, 72, 2)   float32   \n",
      "  8  BIN_LWELLCOO    1 ImageHDU        49   (72, 72, 4)   float32   \n",
      "  9  BIN_AREA      1 ImageHDU        36   (72, 72)   float32   \n",
      " 10  BIN_FAREA     1 ImageHDU        35   (72, 72)   float32   \n",
      " 11  BIN_MFLUX     1 ImageHDU        38   (72, 72)   float32   \n",
      " 12  BIN_MFLUX_IVAR    1 ImageHDU        39   (72, 72)   float32   \n",
      " 13  BIN_MFLUX_MASK    1 ImageHDU        38   (72, 72)   int32   \n",
      " 14  BIN_SNR       1 ImageHDU        35   (72, 72)   float32   \n",
      " 15  STELLAR_VEL    1 ImageHDU        38   (72, 72)   float32   \n",
      " 16  STELLAR_VEL_IVAR    1 ImageHDU        39   (72, 72)   float32   \n",
      " 17  STELLAR_VEL_MASK    1 ImageHDU        38   (72, 72)   int32   \n",
      " 18  STELLAR_SIGMA    1 ImageHDU        38   (72, 72)   float32   \n",
      " 19  STELLAR_SIGMA_IVAR    1 ImageHDU        39   (72, 72)   float32   \n",
      " 20  STELLAR_SIGMA_MASK    1 ImageHDU        38   (72, 72)   int32   \n",
      " 21  STELLAR_SIGMACORR    1 ImageHDU        44   (72, 72, 2)   float32   \n",
      " 22  STELLAR_FOM    1 ImageHDU        59   (72, 72, 9)   float32   \n",
      " 23  EMLINE_SFLUX    1 ImageHDU        79   (72, 72, 35)   float32   \n",
      " 24  EMLINE_SFLUX_IVAR    1 ImageHDU        80   (72, 72, 35)   float32   \n",
      " 25  EMLINE_SFLUX_MASK    1 ImageHDU        79   (72, 72, 35)   int32   \n",
      " 26  EMLINE_SEW    1 ImageHDU        79   (72, 72, 35)   float32   \n",
      " 27  EMLINE_SEW_CNT    1 ImageHDU        77   (72, 72, 35)   float32   \n",
      " 28  EMLINE_SEW_IVAR    1 ImageHDU        80   (72, 72, 35)   float32   \n",
      " 29  EMLINE_SEW_MASK    1 ImageHDU        79   (72, 72, 35)   int32   \n",
      " 30  EMLINE_GFLUX    1 ImageHDU        79   (72, 72, 35)   float32   \n",
      " 31  EMLINE_GFLUX_IVAR    1 ImageHDU        80   (72, 72, 35)   float32   \n",
      " 32  EMLINE_GFLUX_MASK    1 ImageHDU        79   (72, 72, 35)   int32   \n",
      " 33  EMLINE_GEW    1 ImageHDU        79   (72, 72, 35)   float32   \n",
      " 34  EMLINE_GEW_CNT    1 ImageHDU        77   (72, 72, 35)   float32   \n",
      " 35  EMLINE_GEW_IVAR    1 ImageHDU        80   (72, 72, 35)   float32   \n",
      " 36  EMLINE_GEW_MASK    1 ImageHDU        79   (72, 72, 35)   int32   \n",
      " 37  EMLINE_GVEL    1 ImageHDU        79   (72, 72, 35)   float32   \n",
      " 38  EMLINE_GVEL_IVAR    1 ImageHDU        80   (72, 72, 35)   float32   \n",
      " 39  EMLINE_GVEL_MASK    1 ImageHDU        79   (72, 72, 35)   int32   \n",
      " 40  EMLINE_GSIGMA    1 ImageHDU        79   (72, 72, 35)   float32   \n",
      " 41  EMLINE_GSIGMA_IVAR    1 ImageHDU        80   (72, 72, 35)   float32   \n",
      " 42  EMLINE_GSIGMA_MASK    1 ImageHDU        79   (72, 72, 35)   int32   \n",
      " 43  EMLINE_INSTSIGMA    1 ImageHDU        77   (72, 72, 35)   float32   \n",
      " 44  EMLINE_TPLSIGMA    1 ImageHDU        77   (72, 72, 35)   float32   \n",
      " 45  EMLINE_GA     1 ImageHDU        77   (72, 72, 35)   float32   \n",
      " 46  EMLINE_GANR    1 ImageHDU        76   (72, 72, 35)   float32   \n",
      " 47  EMLINE_FOM    1 ImageHDU        59   (72, 72, 9)   float32   \n",
      " 48  EMLINE_LFOM    1 ImageHDU        76   (72, 72, 35)   float32   \n",
      " 49  SPECINDEX     1 ImageHDU       135   (72, 72, 46)   float32   \n",
      " 50  SPECINDEX_IVAR    1 ImageHDU       136   (72, 72, 46)   float32   \n",
      " 51  SPECINDEX_MASK    1 ImageHDU        90   (72, 72, 46)   int32   \n",
      " 52  SPECINDEX_CORR    1 ImageHDU        87   (72, 72, 46)   float32   \n",
      " 53  SPECINDEX_MODEL    1 ImageHDU        87   (72, 72, 46)   float32   \n",
      " 54  SPECINDEX_BF    1 ImageHDU       135   (72, 72, 46)   float32   \n",
      " 55  SPECINDEX_BF_IVAR    1 ImageHDU       136   (72, 72, 46)   float32   \n",
      " 56  SPECINDEX_BF_MASK    1 ImageHDU        90   (72, 72, 46)   int32   \n",
      " 57  SPECINDEX_BF_CORR    1 ImageHDU        87   (72, 72, 46)   float32   \n",
      " 58  SPECINDEX_BF_MODEL    1 ImageHDU        87   (72, 72, 46)   float32   \n",
      " 59  SPECINDEX_WGT    1 ImageHDU       135   (72, 72, 46)   float32   \n",
      " 60  SPECINDEX_WGT_IVAR    1 ImageHDU       136   (72, 72, 46)   float32   \n",
      " 61  SPECINDEX_WGT_MASK    1 ImageHDU        90   (72, 72, 46)   int32   \n",
      " 62  SPECINDEX_WGT_CORR    1 ImageHDU        87   (72, 72, 46)   float32   \n",
      " 63  SPECINDEX_WGT_MODEL    1 ImageHDU        87   (72, 72, 46)   float32   \n"
     ]
    }
   ],
   "source": [
    "maps.info()"
   ]
  },
  {
   "cell_type": "code",
   "execution_count": 8,
   "id": "529c6609-ac93-472e-9484-b3719b2ef778",
   "metadata": {},
   "outputs": [
    {
     "data": {
      "image/png": "[encoded data removed]",
      "text/plain": [
       "<Figure size 432x288 with 1 Axes>"
      ]
     },
     "metadata": {
      "needs_background": "light"
     },
     "output_type": "display_data"
    }
   ],
   "source": [
    "plt.imshow(maps[23].data[24],cmap='magma')\n",
    "plt.title('Mapa de emisión de Hα de MaNGA')\n",
    "plt.savefig('halfamanga.png')\n",
    "plt.show()"
   ]
  }
 ],
 "metadata": {
  "kernelspec": {
   "display_name": "Python 3 (ipykernel)",
   "language": "python",
   "name": "python3"
  },
  "language_info": {
   "codemirror_mode": {
    "name": "ipython",
    "version": 3
   },
   "file_extension": ".py",
   "mimetype": "text/x-python",
   "name": "python",
   "nbconvert_exporter": "python",
   "pygments_lexer": "ipython3",
   "version": "3.9.7"
  }
 },
 "nbformat": 4,
 "nbformat_minor": 5
}
