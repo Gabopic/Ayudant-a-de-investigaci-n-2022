{
 "cells": [
  {
   "cell_type": "markdown",
   "id": "9339df95-b090-451b-a2ed-2ee4a8780639",
   "metadata": {},
   "source": [
    "# Notebook para crear un fits RSS y un LOGCUBE a partir de un cubo de muse"
   ]
  },
  {
   "cell_type": "code",
   "execution_count": 1,
   "id": "67378203-bb02-46af-aa25-8fd432f55b37",
   "metadata": {},
   "outputs": [],
   "source": [
    "import astropy\n",
    "from astropy.io import fits\n",
    "from astropy.wcs import WCS\n",
    "import matplotlib.pyplot as plt\n",
    "import numpy as np\n",
    "from spectral_cube import SpectralCube\n",
    "\n",
    "from scipy.interpolate import interp1d\n",
    "from scipy.interpolate import splrep\n",
    "from scipy.interpolate import splev"
   ]
  },
  {
   "cell_type": "markdown",
   "id": "adf7a7c1-d9e0-4503-94f4-609c51921d5d",
   "metadata": {},
   "source": [
    "## Lectura de archivos fits\n",
    "Para este ejemplo se utilizó el objeto 8083-12705 del catálogo de MaNGA (obtenido desde Marvin)"
   ]
  },
  {
   "cell_type": "code",
   "execution_count": 2,
   "id": "b86c898c-87d3-4254-bb2d-a60252d67301",
   "metadata": {},
   "outputs": [],
   "source": [
    "muse= fits.open('ADP.2016-08-01T16 14 36.611.fits')\n",
    "rss= fits.open('cubes/manga-8083-12705-LOGRSS.fits.gz')"
   ]
  },
  {
   "cell_type": "code",
   "execution_count": 3,
   "id": "8066acba-b8d9-4b5e-b9a2-c30dd5ec33cc",
   "metadata": {},
   "outputs": [
    {
     "name": "stdout",
     "output_type": "stream",
     "text": [
      "Filename: ADP.2016-08-01T16 14 36.611.fits\n",
      "No.    Name      Ver    Type      Cards   Dimensions   Format\n",
      "  0  PRIMARY       1 PrimaryHDU    1326   ()      \n",
      "  1  DATA          1 ImageHDU        43   (324, 322, 3681)   float32   \n",
      "  2  STAT          1 ImageHDU        43   (324, 322, 3681)   float32   \n"
     ]
    }
   ],
   "source": [
    "muse.info()"
   ]
  },
  {
   "cell_type": "code",
   "execution_count": 4,
   "id": "3202b8e3-2b3e-4f1b-9c7d-a2e3f16df7dd",
   "metadata": {},
   "outputs": [
    {
     "name": "stdout",
     "output_type": "stream",
     "text": [
      "Filename: cubes/manga-8083-12705-LOGRSS.fits.gz\n",
      "No.    Name      Ver    Type      Cards   Dimensions   Format\n",
      "  0  PRIMARY       1 PrimaryHDU      71   ()      \n",
      "  1  FLUX          1 ImageHDU        85   (4563, 1905)   float32   \n",
      "  2  IVAR          1 ImageHDU        16   (4563, 1905)   float32   \n",
      "  3  MASK          1 ImageHDU        16   (4563, 1905)   int32   \n",
      "  4  LSFPOST       1 ImageHDU        10   (4563, 1905)   float32   \n",
      "  5  LSFPRE        1 ImageHDU        10   (4563, 1905)   float32   \n",
      "  6  WAVE          1 ImageHDU         9   (4563,)   float64   \n",
      "  7  SPECRES       1 ImageHDU         9   (4563,)   float64   \n",
      "  8  SPECRESD      1 ImageHDU         9   (4563,)   float64   \n",
      "  9  PRESPECRES    1 ImageHDU         9   (4563,)   float64   \n",
      " 10  PRESPECRESD    1 ImageHDU         9   (4563,)   float64   \n",
      " 11  OBSINFO       1 BinTableHDU    148   15R x 65C   [25A, 17A, 5A, J, I, 8A, E, E, E, E, E, E, J, J, I, J, E, 12A, J, 8A, E, E, E, E, E, E, E, E, E, E, E, E, E, E, E, E, E, E, E, 13A, E, E, E, E, D, D, D, D, E, E, J, J, J, E, E, E, E, E, E, J, J, E, E, E, E]   \n",
      " 12  XPOS          1 ImageHDU        10   (4563, 1905)   float32   \n",
      " 13  YPOS          1 ImageHDU        10   (4563, 1905)   float32   \n"
     ]
    }
   ],
   "source": [
    "rss.info()"
   ]
  },
  {
   "cell_type": "markdown",
   "id": "6a6591aa-b520-4f16-858e-a06cebfe6787",
   "metadata": {},
   "source": [
    "## Obtención del Ivar y el flujo desde cubo de muse\n",
    "-Se tomó un corte centrado en el objeto de 72x72 spaxels\n",
    "\n",
    "-Centrado en (140,150)"
   ]
  },
  {
   "cell_type": "code",
   "execution_count": 6,
   "id": "baddb02a-fe7b-4889-99f4-9fe4822ffc9e",
   "metadata": {},
   "outputs": [],
   "source": [
    "x=slice(104,176)\n",
    "y=slice(114,186)\n",
    "xr=x.stop-x.start\n",
    "yr=y.stop-y.start\n",
    "xm=int(np.median(np.arange(0,xr)))\n",
    "ym=int(np.median(np.arange(0,yr)))"
   ]
  },
  {
   "cell_type": "code",
   "execution_count": 7,
   "id": "b8061626-d2d4-45b4-84e7-cc07e7f032ca",
   "metadata": {},
   "outputs": [],
   "source": [
    "data= muse[1].data"
   ]
  },
  {
   "cell_type": "code",
   "execution_count": 8,
   "id": "ef6b5a67-a148-45f0-95c4-b34d8363f00b",
   "metadata": {},
   "outputs": [],
   "source": [
    "flujo= np.reshape(data[:,x,y],(3681,xr*yr))"
   ]
  },
  {
   "cell_type": "markdown",
   "id": "2d843fa6-4d31-45fc-b020-8509af8cbdd0",
   "metadata": {},
   "source": [
    "## Definiendo los vectores de longitud de onda y resolusión espectral (paso a escala logarítmica)"
   ]
  },
  {
   "cell_type": "code",
   "execution_count": 15,
   "id": "e640779f-e457-4ae5-9f97-625fdaa59298",
   "metadata": {},
   "outputs": [],
   "source": [
    "wave= np.arange(4749.5576171875,9349.5576171875+1.25,1.25)\n",
    "logwave= np.arange(np.log10(4749.5576171875),\n",
    "                    (2942*10**(-4))+np.log10(4749.5576171875),1*10**(-4))\n",
    "nwave=10**logwave\n",
    "specres= nwave/0.026"
   ]
  },
  {
   "cell_type": "code",
   "execution_count": 16,
   "id": "d492f41a-7f50-4b4e-b7b7-d62873cc7ba0",
   "metadata": {},
   "outputs": [
    {
     "data": {
      "text/plain": [
       "(array([   0,    1, 2941, 2941, 2941, 2941, 2941, 2941, 2941, 2941, 2941,\n",
       "        2941, 2941, 2941, 2941, 2941, 2941, 2941, 2941, 2941, 2941, 2941,\n",
       "        2941, 2941, 2941, 2941, 2941, 2941, 2941, 2941, 2941, 2941, 2941,\n",
       "        2941, 2941, 2941, 2941, 2941, 2941, 2941, 2941, 2941, 2941, 2941,\n",
       "        2941, 2941, 2941, 2941, 2941, 2941, 2941, 2941, 2941, 2941, 2941,\n",
       "        2941, 2941, 2941, 2941, 2941, 2941, 2941, 2941, 2941, 2941, 2941,\n",
       "        2941, 2941, 2941, 2941, 2941, 2941, 2941, 2941, 2941, 2941, 2941,\n",
       "        2941, 2941, 2941, 2941, 2941, 2941, 2941, 2941, 2941, 2941, 2941,\n",
       "        2941, 2941, 2941, 2941, 2941, 2941, 2941, 2941, 2941, 2941, 2941,\n",
       "        2941, 2941, 2941, 2941, 2941, 2941, 2941, 2941, 2941, 2941, 2941,\n",
       "        2941, 2941, 2941, 2941, 2941, 2941, 2941, 2941]),\n",
       " array([1748, 1748,   45,  105,  106,  107,  199,  202,  206,  207,  271,\n",
       "         274,  276,  278,  279,  317,  323,  324,  327,  332,  333,  343,\n",
       "         346,  348,  350,  351,  399,  404,  405,  407,  564,  894,  895,\n",
       "         971,  972, 1110, 1126, 1128, 1131, 1132, 1254, 1310, 1326, 1331,\n",
       "        1332, 1569, 1620, 1623, 1663, 1686, 1692, 1695, 1752, 1785, 1990,\n",
       "        2062, 2134, 2140, 2238, 2297, 2454, 2472, 2473, 2478, 2481, 2566,\n",
       "        2622, 2625, 2628, 2943, 2945, 3074, 3076, 3080, 3087, 3269, 3270,\n",
       "        3273, 3292, 3296, 3303, 3305, 3552, 3553, 3557, 3558, 3561, 3899,\n",
       "        3900, 3971, 3972, 4096, 4097, 4329, 4330, 4331, 4332, 4333, 4469,\n",
       "        4473, 4474, 4475, 4476, 4477, 4490, 4520, 4523, 4533, 4723, 4736,\n",
       "        4739, 4785, 4795, 4905, 4913, 5138, 5148, 5155]))"
      ]
     },
     "execution_count": 16,
     "metadata": {},
     "output_type": "execute_result"
    }
   ],
   "source": [
    "#Interpolación del flujo para pasarlo a escala logaritmica \n",
    "flog=np.empty((2942,0))\n",
    "for i in range (xr*yr):\n",
    "    cu = interp1d(wave, flujo[:,i] ,kind='linear')\n",
    "    flog= np.append(flog,np.transpose(np.array([cu(nwave)])),axis=1)\n",
    "nans=np.where(np.isnan(flog))\n",
    "flog[np.isnan(flog)]=0\n",
    "nans"
   ]
  },
  {
   "cell_type": "markdown",
   "id": "e849cdfa-4a7d-462c-9fec-b24d0c7f825b",
   "metadata": {},
   "source": [
    "## Generando el ivar para el nuevo cubo de MUSE "
   ]
  },
  {
   "cell_type": "code",
   "execution_count": 25,
   "id": "c4584b18-ff30-4b50-acda-8c30400652da",
   "metadata": {},
   "outputs": [],
   "source": [
    "stat= muse[2].data"
   ]
  },
  {
   "cell_type": "code",
   "execution_count": 26,
   "id": "692db02b-2c40-483d-be58-5192db58e460",
   "metadata": {},
   "outputs": [],
   "source": [
    "theta2= stat[0:2942,x,y]"
   ]
  },
  {
   "cell_type": "code",
   "execution_count": 27,
   "id": "3cd35d66-ef05-4135-a585-06e9bd2164be",
   "metadata": {
    "tags": []
   },
   "outputs": [
    {
     "data": {
      "text/plain": [
       "array([[6086.188   , 5694.7236  , 8573.868   , ..., 7209.957   ,\n",
       "        5361.8467  , 4981.3213  ],\n",
       "       [3383.8972  , 3660.0908  , 2916.3982  , ..., 2691.139   ,\n",
       "        1885.6787  , 2117.4958  ],\n",
       "       [2953.463   , 3605.6094  , 2694.4219  , ..., 1669.3643  ,\n",
       "        1788.7092  , 1530.0334  ],\n",
       "       ...,\n",
       "       [  76.51468 ,   61.12612 ,   59.314125, ...,   55.97684 ,\n",
       "          57.35257 ,   49.695473],\n",
       "       [  89.382515,   67.40379 ,   66.211784, ...,   52.821693,\n",
       "          54.082813,   57.183086],\n",
       "       [  81.18304 ,   65.315674,   67.98857 , ...,   52.2509  ,\n",
       "          56.618805,   56.69233 ]], dtype=float32)"
      ]
     },
     "execution_count": 27,
     "metadata": {},
     "output_type": "execute_result"
    }
   ],
   "source": [
    "var= np.reshape(theta2,(2942,xr*yr))\n",
    "var"
   ]
  },
  {
   "cell_type": "code",
   "execution_count": 28,
   "id": "8fd898e5-02c3-47b2-84ed-b1817a5c50c7",
   "metadata": {},
   "outputs": [
    {
     "data": {
      "text/plain": [
       "array([[0.00016431, 0.0001756 , 0.00011663, ..., 0.0001387 , 0.0001865 ,\n",
       "        0.00020075],\n",
       "       [0.00029552, 0.00027322, 0.00034289, ..., 0.00037159, 0.00053031,\n",
       "        0.00047226],\n",
       "       [0.00033859, 0.00027735, 0.00037114, ..., 0.00059903, 0.00055906,\n",
       "        0.00065358],\n",
       "       ...,\n",
       "       [0.01306939, 0.01635962, 0.01685939, ..., 0.01786453, 0.01743601,\n",
       "        0.02012256],\n",
       "       [0.01118787, 0.01483596, 0.01510305, ..., 0.01893162, 0.01849016,\n",
       "        0.01748769],\n",
       "       [0.01231784, 0.01531026, 0.01470835, ..., 0.01913843, 0.01766198,\n",
       "        0.01763907]], dtype=float32)"
      ]
     },
     "execution_count": 28,
     "metadata": {},
     "output_type": "execute_result"
    }
   ],
   "source": [
    "ivar= np.ma.power(var[:,], -1.0).filled(0.0)\n",
    "ivar"
   ]
  },
  {
   "cell_type": "markdown",
   "id": "d4da56d5-2289-4b31-bb34-ff37921086b0",
   "metadata": {},
   "source": [
    "## Obtención de xpos e ypos desde el cubo de muse"
   ]
  },
  {
   "cell_type": "code",
   "execution_count": 30,
   "id": "3fb3dc46-5a3f-419e-b18a-5211e49c2efe",
   "metadata": {
    "tags": []
   },
   "outputs": [
    {
     "name": "stderr",
     "output_type": "stream",
     "text": [
      "WARNING: UnitsWarning: '10**(-20)*erg/s/cm**2/Angstrom' contains multiple slashes, which is discouraged by the FITS standard [astropy.units.format.generic]\n"
     ]
    }
   ],
   "source": [
    "cube = SpectralCube.read('ADP.2016-08-01T16 14 36.611.fits', hdu=1)"
   ]
  },
  {
   "cell_type": "code",
   "execution_count": 31,
   "id": "54d67e41-0c7c-4b2d-b04e-91dad788d343",
   "metadata": {
    "tags": []
   },
   "outputs": [],
   "source": [
    "m=cube.world[:,y,x]\n",
    "#[DATO:0=long,1=dec,2=ra][Longitud][ejex][ejey]"
   ]
  },
  {
   "cell_type": "code",
   "execution_count": 32,
   "id": "1014a0f1-8514-48e9-a36f-66fdfe1daa87",
   "metadata": {},
   "outputs": [],
   "source": [
    "centros=np.empty((0,2))\n",
    "for i in range(2942):\n",
    "    c=np.array([[m[2][i][xm][ym].value*3600,m[1][i][xm][ym].value*3600]])\n",
    "    centros= np.append(centros,c,axis=0)\n",
    "#centros=[ra,dec] en arcsec"
   ]
  },
  {
   "cell_type": "code",
   "execution_count": 33,
   "id": "47766d85-29bf-43ea-8558-ca17121fe7d1",
   "metadata": {
    "tags": []
   },
   "outputs": [
    {
     "data": {
      "text/plain": [
       "array([[180646.7005248,  -3987.0715485],\n",
       "       [180646.7005248,  -3987.0715485],\n",
       "       [180646.7005248,  -3987.0715485],\n",
       "       ...,\n",
       "       [180646.7005248,  -3987.0715485],\n",
       "       [180646.7005248,  -3987.0715485],\n",
       "       [180646.7005248,  -3987.0715485]])"
      ]
     },
     "execution_count": 33,
     "metadata": {},
     "output_type": "execute_result"
    }
   ],
   "source": [
    "centros"
   ]
  },
  {
   "cell_type": "code",
   "execution_count": 34,
   "id": "3a995d86-a68d-47f5-9bda-3bd192870f9e",
   "metadata": {},
   "outputs": [],
   "source": [
    "pos=np.empty((0,2,xr,yr))\n",
    "for i in range(2942):\n",
    "    p= np.array([[m[2][i][:][:].value*3600-centros[i][0], m[1][i][:][:].value*3600-centros[i][1]]])\n",
    "    pos= np.append(p,pos,axis=0)\n",
    "#pos[Longitud][1=ra,2=dec][ejex][ejey]"
   ]
  },
  {
   "cell_type": "code",
   "execution_count": 35,
   "id": "b1d76889-0017-4f29-8a21-a70a3e63c6fe",
   "metadata": {},
   "outputs": [
    {
     "data": {
      "text/plain": [
       "0.0"
      ]
     },
     "execution_count": 35,
     "metadata": {},
     "output_type": "execute_result"
    }
   ],
   "source": [
    "pos[2941][1][xm][ym]"
   ]
  },
  {
   "cell_type": "code",
   "execution_count": 36,
   "id": "0d28c5c1-aa7a-4bcf-bbea-910c526b65ef",
   "metadata": {},
   "outputs": [],
   "source": [
    "xpos=np.reshape(pos[:,0,:,:],(2942,xr*yr))\n",
    "ypos=np.reshape(pos[:,1,:,:],(2942,xr*yr))"
   ]
  },
  {
   "cell_type": "markdown",
   "id": "26c9d6b3-1bbf-4edb-b0f5-a739a603584d",
   "metadata": {},
   "source": [
    "## Construcción del RSS"
   ]
  },
  {
   "cell_type": "code",
   "execution_count": 38,
   "id": "2f6eb795-cb60-4745-bded-565f246eab0c",
   "metadata": {},
   "outputs": [],
   "source": [
    "header= rss[0].header"
   ]
  },
  {
   "cell_type": "code",
   "execution_count": 39,
   "id": "bbfd5d9a-4405-4f19-afd5-7fce6dc20f32",
   "metadata": {},
   "outputs": [],
   "source": [
    "#Máscaras, se usa 0 para spaxels sin máscaras, 1027 para spaxels enmascarados\n",
    "mask= np.zeros((2942,xr,yr),dtype=int)\n",
    "maskrss= np.reshape(mask,(2942,xr*yr))"
   ]
  },
  {
   "cell_type": "code",
   "execution_count": 40,
   "id": "37d78fc1-bc94-4aac-a758-3f481c42f827",
   "metadata": {},
   "outputs": [],
   "source": [
    "h= fits.PrimaryHDU(header=header)\n",
    "f= fits.ImageHDU(np.swapaxes(flog,0,1), name='FLUX')\n",
    "v= fits.ImageHDU(np.swapaxes(ivar,0,1), name='IVAR')\n",
    "xp= fits.ImageHDU(np.swapaxes(xpos,0,1), name='XPOS')\n",
    "yp= fits.ImageHDU(np.swapaxes(ypos,0,1), name='YPOS')\n",
    "s= fits.ImageHDU(specres, name='SPECRES')\n",
    "w= fits.ImageHDU(nwave, name='WAVE')\n",
    "mar= fits.ImageHDU(np.swapaxes(maskrss,0,1),name='MASK')"
   ]
  },
  {
   "cell_type": "code",
   "execution_count": 41,
   "id": "ef79bccb-7d24-47ee-9c6f-b4927e1336d1",
   "metadata": {},
   "outputs": [],
   "source": [
    "h.header['VERSDRP3']= 'v3_1_1  '\n",
    "h.header['NEXP']= 1\n",
    "f.header['DRP3QUAL']= 0\n",
    "h.header['DRP3QUAL']= 0\n",
    "h.header['OBJRA']= 50.1784165840687\n",
    "h.header['OBJDEC']= -1.10690876373023"
   ]
  },
  {
   "cell_type": "code",
   "execution_count": 42,
   "id": "a7644950-9cf7-4691-9027-10f6785b4f5d",
   "metadata": {
    "tags": []
   },
   "outputs": [],
   "source": [
    "hdul= fits.HDUList([h,f,v,mar,w,s,xp,yp])"
   ]
  },
  {
   "cell_type": "code",
   "execution_count": 43,
   "id": "3e109cd7-59ef-4ed8-a448-1b88e9949ecc",
   "metadata": {},
   "outputs": [],
   "source": [
    "hdul.writeto('manga-8083-12705-LOGRSS.fits.gz')"
   ]
  },
  {
   "cell_type": "code",
   "execution_count": 20,
   "id": "faf541a9-a44a-44fc-b494-6c87adccbb11",
   "metadata": {
    "tags": []
   },
   "outputs": [],
   "source": [
    "testRSS= fits.open('manga-8083-12705-LOGRSS.fits.gz')"
   ]
  },
  {
   "cell_type": "code",
   "execution_count": 21,
   "id": "126b9968-ba61-40f2-b99e-0c975540c303",
   "metadata": {},
   "outputs": [
    {
     "name": "stdout",
     "output_type": "stream",
     "text": [
      "Filename: manga-8083-12705-LOGRSS.fits.gz\n",
      "No.    Name      Ver    Type      Cards   Dimensions   Format\n",
      "  0  PRIMARY       1 PrimaryHDU      69   ()      \n",
      "  1  FLUX          1 ImageHDU         9   (2942, 5184)   float64   \n",
      "  2  IVAR          1 ImageHDU         8   (2942, 5184)   float32   \n",
      "  3  MASK          1 ImageHDU         8   (2942, 5184)   int64   \n",
      "  4  WAVE          1 ImageHDU         7   (2942,)   float64   \n",
      "  5  SPECRES       1 ImageHDU         7   (2942,)   float64   \n",
      "  6  XPOS          1 ImageHDU         8   (2942, 5184)   float64   \n",
      "  7  YPOS          1 ImageHDU         8   (2942, 5184)   float64   \n"
     ]
    }
   ],
   "source": [
    "testRSS.info()"
   ]
  },
  {
   "cell_type": "markdown",
   "id": "afe21327-4fd6-4494-87cc-533de2d56970",
   "metadata": {},
   "source": [
    "## Creación del logcube"
   ]
  },
  {
   "cell_type": "code",
   "execution_count": 47,
   "id": "e420a891-2973-4ac9-ae71-2795955aa4bd",
   "metadata": {},
   "outputs": [],
   "source": [
    "museh= muse[0].header\n",
    "museh.set('EBVGAL', 0.0721933)"
   ]
  },
  {
   "cell_type": "code",
   "execution_count": 48,
   "id": "8a5e02ad-355b-4a81-9de2-104e7ca93bfd",
   "metadata": {
    "tags": []
   },
   "outputs": [],
   "source": [
    "flujo2= np.reshape(flog,(2942,xr,yr))\n",
    "ivar2= np.ma.power(theta2[0:2942,], -1.0).filled(0.0)"
   ]
  },
  {
   "cell_type": "code",
   "execution_count": 49,
   "id": "90c10a80-6a87-406f-a7bc-5a0728c50bc0",
   "metadata": {},
   "outputs": [],
   "source": [
    "h2= fits.PrimaryHDU(header=museh)\n",
    "f2= fits.ImageHDU(flujo2,name='FLUX')\n",
    "i= fits.ImageHDU(ivar2,name='IVAR')\n",
    "ma= fits.ImageHDU(mask,name='MASK')"
   ]
  },
  {
   "cell_type": "code",
   "execution_count": 50,
   "id": "bf563208-6bd0-4d6b-9668-d16aaa0837a1",
   "metadata": {},
   "outputs": [],
   "source": [
    "f2.header['CTYPE3']= 'WAVE-LOG'\n",
    "f2.header['CUNIT3']= 'Angstrom'\n",
    "f2.header['DATE-OBS']= '2016-01-27T03:14:27.320'\n",
    "f2.header['MJD-OBS']= 57414.13503843\n",
    "f2.header['CRPIX3']= 1\n",
    "f2.header['CRVAL3']= 4749.5576171875\n",
    "f2.header['CD3_3']= 1.25\n",
    "f2.header['DRP3QUAL']= 0\n",
    "h2.header['VERSDRP3']= 'v3_1_1  '\n",
    "h2.header['DRP3QUAL']= 0\n",
    "h2.header['OBJRA']= 50.1784165840687\n",
    "h2.header['OBJDEC']= -1.10690876373023"
   ]
  },
  {
   "cell_type": "code",
   "execution_count": 51,
   "id": "795367e4-7b16-4a68-b938-57fc1310262d",
   "metadata": {},
   "outputs": [],
   "source": [
    "hdul2= fits.HDUList([h2,f2,i,ma,w,s])"
   ]
  },
  {
   "cell_type": "code",
   "execution_count": 52,
   "id": "fae9f58e-1364-4b2a-8807-7e714b0d2696",
   "metadata": {},
   "outputs": [],
   "source": [
    "hdul2.writeto('manga-8083-12705-LOGCUBE.fits.gz')"
   ]
  },
  {
   "cell_type": "code",
   "execution_count": 18,
   "id": "8117bc32-e1d6-4250-9c4c-0247ba6aeaca",
   "metadata": {},
   "outputs": [],
   "source": [
    "testLOG= fits.open('manga-8083-12705-LOGCUBE.fits.gz')"
   ]
  },
  {
   "cell_type": "code",
   "execution_count": 19,
   "id": "ebc75502-470a-417a-aa43-150094a6535c",
   "metadata": {},
   "outputs": [
    {
     "name": "stdout",
     "output_type": "stream",
     "text": [
      "Filename: manga-8083-12705-LOGCUBE.fits.gz\n",
      "No.    Name      Ver    Type      Cards   Dimensions   Format\n",
      "  0  PRIMARY       1 PrimaryHDU    1331   ()      \n",
      "  1  FLUX          1 ImageHDU        17   (72, 72, 2942)   float64   \n",
      "  2  IVAR          1 ImageHDU         9   (72, 72, 2942)   float32   \n",
      "  3  MASK          1 ImageHDU         9   (72, 72, 2942)   int64   \n",
      "  4  WAVE          1 ImageHDU         7   (2942,)   float64   \n",
      "  5  SPECRES       1 ImageHDU         7   (2942,)   float64   \n"
     ]
    }
   ],
   "source": [
    "testLOG.info()"
   ]
  },
  {
   "cell_type": "markdown",
   "id": "6ba9ce04-2357-4b62-be86-2a86af107225",
   "metadata": {},
   "source": [
    "## Plots"
   ]
  },
  {
   "cell_type": "code",
   "execution_count": 30,
   "id": "924292e6-bf0e-40d0-958b-d0fdb5bea548",
   "metadata": {},
   "outputs": [
    {
     "data": {
      "image/png": "[encoded data removed]",
      "text/plain": [
       "<Figure size 432x288 with 1 Axes>"
      ]
     },
     "metadata": {
      "needs_background": "light"
     },
     "output_type": "display_data"
    }
   ],
   "source": [
    "plt.imshow(data[2000],cmap='gray')\n",
    "plt.title('Imagen de MUSE')\n",
    "plt.savefig('muse.png')\n",
    "plt.show()"
   ]
  },
  {
   "cell_type": "code",
   "execution_count": 31,
   "id": "7591c2a0-8537-4aa2-bbb8-c34d2177a273",
   "metadata": {},
   "outputs": [
    {
     "data": {
      "image/png": "[encoded data removed]",
      "text/plain": [
       "<Figure size 432x288 with 1 Axes>"
      ]
     },
     "metadata": {
      "needs_background": "light"
     },
     "output_type": "display_data"
    }
   ],
   "source": [
    "plt.imshow(testLOG[1].data[2000],cmap='gray')\n",
    "plt.title('Imagen de MUSE recortada')\n",
    "plt.savefig('musemini.png')\n",
    "plt.show()"
   ]
  },
  {
   "cell_type": "markdown",
   "id": "41144cbd-b3a2-4ebe-b7e9-bbee0973d55d",
   "metadata": {
    "tags": []
   },
   "source": [
    "## Notas y otros"
   ]
  },
  {
   "cell_type": "code",
   "execution_count": null,
   "id": "43a20ec5-ffc0-4552-a505-d22a99aaec2b",
   "metadata": {},
   "outputs": [],
   "source": [
    "#WAVELMIN=      474.95576171875 / [nm] Minimum wavelength  (muse[0]header)                      \n",
    "#WAVELMAX=      934.95576171875 / [nm] Maximum wavelength  (muse[0]header)\n",
    "#CD3_3   =      1.25 / saltos longitud de onda  (muse[1]header)\n",
    "#CRDER3  =      0.026 / [Angstrom] Random error in spectral coordinate (muse[1]header)\n",
    "#specres=       wave/0.026\n",
    "#EBVGAL ? =            0.0721933 / Galactic reddening E(B-V)  (rss[0].header)\n",
    "#Redshift (z) \t0.02091116"
   ]
  },
  {
   "cell_type": "code",
   "execution_count": 46,
   "id": "8c0442e1-0aff-4e79-b5fb-f1628cdfef5b",
   "metadata": {},
   "outputs": [],
   "source": [
    "#Función interp1d\n",
    "li = interp1d(wave, flujo[:,5],kind='linear')\n",
    "nt = interp1d(wave, flujo[:,5],kind='nearest')\n",
    "nu = interp1d(wave, flujo[:,5],kind='nearest-up')\n",
    "ze = interp1d(wave, flujo[:,5],kind='zero')\n",
    "sl = interp1d(wave, flujo[:,5],kind='slinear')\n",
    "qu = interp1d(wave, flujo[:,5],kind='quadratic')\n",
    "cu = interp1d(wave, flujo[:,5],kind='cubic')\n",
    "pr = interp1d(wave, flujo[:,5],kind='previous')\n",
    "ne = interp1d(wave, flujo[:,5],kind='next')\n",
    "\n",
    "#Spline interpolation\n",
    "spl= splrep(wave, flujo[:,5])\n",
    "yn = splev(nwave,spl)"
   ]
  },
  {
   "cell_type": "code",
   "execution_count": 47,
   "id": "a57df2b2-dc4b-4742-8326-86ddfc176727",
   "metadata": {},
   "outputs": [
    {
     "data": {
      "text/plain": [
       "<matplotlib.legend.Legend at 0x7f547640fbb0>"
      ]
     },
     "execution_count": 47,
     "metadata": {},
     "output_type": "execute_result"
    },
    {
     "data": {
      "image/png": "[encoded data removed]",
      "text/plain": [
       "<Figure size 432x288 with 1 Axes>"
      ]
     },
     "metadata": {
      "needs_background": "light"
     },
     "output_type": "display_data"
    }
   ],
   "source": [
    "plt.plot(nwave,cu(nwave),label=\"interpolacion\")\n",
    "plt.plot(wave,flujo[:,5], label= \"datos reales\")\n",
    "plt.xlim(7580,7650)\n",
    "plt.ylim(0,350)\n",
    "plt.legend()"
   ]
  },
  {
   "cell_type": "code",
   "execution_count": 48,
   "id": "98198f24-de9c-4dcf-9af0-e32969f0147e",
   "metadata": {},
   "outputs": [],
   "source": [
    "#aplicar a todos los spaxels\n",
    "cu = interp1d(wave, flujo[:,5] ,kind='cubic')"
   ]
  }
 ],
 "metadata": {
  "kernelspec": {
   "display_name": "Python 3 (ipykernel)",
   "language": "python",
   "name": "python3"
  },
  "language_info": {
   "codemirror_mode": {
    "name": "ipython",
    "version": 3
   },
   "file_extension": ".py",
   "mimetype": "text/x-python",
   "name": "python",
   "nbconvert_exporter": "python",
   "pygments_lexer": "ipython3",
   "version": "3.9.7"
  }
 },
 "nbformat": 4,
 "nbformat_minor": 5
}
